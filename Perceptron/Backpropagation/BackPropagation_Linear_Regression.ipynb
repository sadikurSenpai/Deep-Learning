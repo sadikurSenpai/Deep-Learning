{
  "nbformat": 4,
  "nbformat_minor": 0,
  "metadata": {
    "colab": {
      "provenance": [],
      "authorship_tag": "ABX9TyNXdiK+dFcgH7NXlGQuMcir",
      "include_colab_link": true
    },
    "kernelspec": {
      "name": "python3",
      "display_name": "Python 3"
    },
    "language_info": {
      "name": "python"
    }
  },
  "cells": [
    {
      "cell_type": "markdown",
      "metadata": {
        "id": "view-in-github",
        "colab_type": "text"
      },
      "source": [
        "<a href=\"https://colab.research.google.com/github/sadikurSenpai/Deep-Learning/blob/main/Perceptron/BackPropagation_Linear_Regression.ipynb\" target=\"_parent\"><img src=\"https://colab.research.google.com/assets/colab-badge.svg\" alt=\"Open In Colab\"/></a>"
      ]
    },
    {
      "cell_type": "code",
      "source": [
        "import numpy as np\n",
        "import random"
      ],
      "metadata": {
        "id": "GHYno_uk9xs3"
      },
      "execution_count": 197,
      "outputs": []
    },
    {
      "cell_type": "code",
      "source": [
        "import pandas as pd"
      ],
      "metadata": {
        "id": "YHr6mhQa-Db-"
      },
      "execution_count": 198,
      "outputs": []
    },
    {
      "cell_type": "code",
      "source": [
        "data = pd.DataFrame(data=[[8, 8, 4], [7, 9, 5], [6, 10, 6], [5, 12, 7]], columns=['cgpa', 'profile_score', 'lpa'])\n",
        "data"
      ],
      "metadata": {
        "colab": {
          "base_uri": "https://localhost:8080/",
          "height": 175
        },
        "id": "mv3uD4DH97pG",
        "outputId": "7ff23c27-51b2-491d-da73-839090fdb357"
      },
      "execution_count": 199,
      "outputs": [
        {
          "output_type": "execute_result",
          "data": {
            "text/plain": [
              "   cgpa  profile_score  lpa\n",
              "0     8              8    4\n",
              "1     7              9    5\n",
              "2     6             10    6\n",
              "3     5             12    7"
            ],
            "text/html": [
              "\n",
              "  <div id=\"df-21c263d3-9f26-4ddf-8d93-2d2b44782f25\" class=\"colab-df-container\">\n",
              "    <div>\n",
              "<style scoped>\n",
              "    .dataframe tbody tr th:only-of-type {\n",
              "        vertical-align: middle;\n",
              "    }\n",
              "\n",
              "    .dataframe tbody tr th {\n",
              "        vertical-align: top;\n",
              "    }\n",
              "\n",
              "    .dataframe thead th {\n",
              "        text-align: right;\n",
              "    }\n",
              "</style>\n",
              "<table border=\"1\" class=\"dataframe\">\n",
              "  <thead>\n",
              "    <tr style=\"text-align: right;\">\n",
              "      <th></th>\n",
              "      <th>cgpa</th>\n",
              "      <th>profile_score</th>\n",
              "      <th>lpa</th>\n",
              "    </tr>\n",
              "  </thead>\n",
              "  <tbody>\n",
              "    <tr>\n",
              "      <th>0</th>\n",
              "      <td>8</td>\n",
              "      <td>8</td>\n",
              "      <td>4</td>\n",
              "    </tr>\n",
              "    <tr>\n",
              "      <th>1</th>\n",
              "      <td>7</td>\n",
              "      <td>9</td>\n",
              "      <td>5</td>\n",
              "    </tr>\n",
              "    <tr>\n",
              "      <th>2</th>\n",
              "      <td>6</td>\n",
              "      <td>10</td>\n",
              "      <td>6</td>\n",
              "    </tr>\n",
              "    <tr>\n",
              "      <th>3</th>\n",
              "      <td>5</td>\n",
              "      <td>12</td>\n",
              "      <td>7</td>\n",
              "    </tr>\n",
              "  </tbody>\n",
              "</table>\n",
              "</div>\n",
              "    <div class=\"colab-df-buttons\">\n",
              "\n",
              "  <div class=\"colab-df-container\">\n",
              "    <button class=\"colab-df-convert\" onclick=\"convertToInteractive('df-21c263d3-9f26-4ddf-8d93-2d2b44782f25')\"\n",
              "            title=\"Convert this dataframe to an interactive table.\"\n",
              "            style=\"display:none;\">\n",
              "\n",
              "  <svg xmlns=\"http://www.w3.org/2000/svg\" height=\"24px\" viewBox=\"0 -960 960 960\">\n",
              "    <path d=\"M120-120v-720h720v720H120Zm60-500h600v-160H180v160Zm220 220h160v-160H400v160Zm0 220h160v-160H400v160ZM180-400h160v-160H180v160Zm440 0h160v-160H620v160ZM180-180h160v-160H180v160Zm440 0h160v-160H620v160Z\"/>\n",
              "  </svg>\n",
              "    </button>\n",
              "\n",
              "  <style>\n",
              "    .colab-df-container {\n",
              "      display:flex;\n",
              "      gap: 12px;\n",
              "    }\n",
              "\n",
              "    .colab-df-convert {\n",
              "      background-color: #E8F0FE;\n",
              "      border: none;\n",
              "      border-radius: 50%;\n",
              "      cursor: pointer;\n",
              "      display: none;\n",
              "      fill: #1967D2;\n",
              "      height: 32px;\n",
              "      padding: 0 0 0 0;\n",
              "      width: 32px;\n",
              "    }\n",
              "\n",
              "    .colab-df-convert:hover {\n",
              "      background-color: #E2EBFA;\n",
              "      box-shadow: 0px 1px 2px rgba(60, 64, 67, 0.3), 0px 1px 3px 1px rgba(60, 64, 67, 0.15);\n",
              "      fill: #174EA6;\n",
              "    }\n",
              "\n",
              "    .colab-df-buttons div {\n",
              "      margin-bottom: 4px;\n",
              "    }\n",
              "\n",
              "    [theme=dark] .colab-df-convert {\n",
              "      background-color: #3B4455;\n",
              "      fill: #D2E3FC;\n",
              "    }\n",
              "\n",
              "    [theme=dark] .colab-df-convert:hover {\n",
              "      background-color: #434B5C;\n",
              "      box-shadow: 0px 1px 3px 1px rgba(0, 0, 0, 0.15);\n",
              "      filter: drop-shadow(0px 1px 2px rgba(0, 0, 0, 0.3));\n",
              "      fill: #FFFFFF;\n",
              "    }\n",
              "  </style>\n",
              "\n",
              "    <script>\n",
              "      const buttonEl =\n",
              "        document.querySelector('#df-21c263d3-9f26-4ddf-8d93-2d2b44782f25 button.colab-df-convert');\n",
              "      buttonEl.style.display =\n",
              "        google.colab.kernel.accessAllowed ? 'block' : 'none';\n",
              "\n",
              "      async function convertToInteractive(key) {\n",
              "        const element = document.querySelector('#df-21c263d3-9f26-4ddf-8d93-2d2b44782f25');\n",
              "        const dataTable =\n",
              "          await google.colab.kernel.invokeFunction('convertToInteractive',\n",
              "                                                    [key], {});\n",
              "        if (!dataTable) return;\n",
              "\n",
              "        const docLinkHtml = 'Like what you see? Visit the ' +\n",
              "          '<a target=\"_blank\" href=https://colab.research.google.com/notebooks/data_table.ipynb>data table notebook</a>'\n",
              "          + ' to learn more about interactive tables.';\n",
              "        element.innerHTML = '';\n",
              "        dataTable['output_type'] = 'display_data';\n",
              "        await google.colab.output.renderOutput(dataTable, element);\n",
              "        const docLink = document.createElement('div');\n",
              "        docLink.innerHTML = docLinkHtml;\n",
              "        element.appendChild(docLink);\n",
              "      }\n",
              "    </script>\n",
              "  </div>\n",
              "\n",
              "\n",
              "<div id=\"df-a8baf68b-9a5b-4237-960b-967fbd3d504a\">\n",
              "  <button class=\"colab-df-quickchart\" onclick=\"quickchart('df-a8baf68b-9a5b-4237-960b-967fbd3d504a')\"\n",
              "            title=\"Suggest charts\"\n",
              "            style=\"display:none;\">\n",
              "\n",
              "<svg xmlns=\"http://www.w3.org/2000/svg\" height=\"24px\"viewBox=\"0 0 24 24\"\n",
              "     width=\"24px\">\n",
              "    <g>\n",
              "        <path d=\"M19 3H5c-1.1 0-2 .9-2 2v14c0 1.1.9 2 2 2h14c1.1 0 2-.9 2-2V5c0-1.1-.9-2-2-2zM9 17H7v-7h2v7zm4 0h-2V7h2v10zm4 0h-2v-4h2v4z\"/>\n",
              "    </g>\n",
              "</svg>\n",
              "  </button>\n",
              "\n",
              "<style>\n",
              "  .colab-df-quickchart {\n",
              "      --bg-color: #E8F0FE;\n",
              "      --fill-color: #1967D2;\n",
              "      --hover-bg-color: #E2EBFA;\n",
              "      --hover-fill-color: #174EA6;\n",
              "      --disabled-fill-color: #AAA;\n",
              "      --disabled-bg-color: #DDD;\n",
              "  }\n",
              "\n",
              "  [theme=dark] .colab-df-quickchart {\n",
              "      --bg-color: #3B4455;\n",
              "      --fill-color: #D2E3FC;\n",
              "      --hover-bg-color: #434B5C;\n",
              "      --hover-fill-color: #FFFFFF;\n",
              "      --disabled-bg-color: #3B4455;\n",
              "      --disabled-fill-color: #666;\n",
              "  }\n",
              "\n",
              "  .colab-df-quickchart {\n",
              "    background-color: var(--bg-color);\n",
              "    border: none;\n",
              "    border-radius: 50%;\n",
              "    cursor: pointer;\n",
              "    display: none;\n",
              "    fill: var(--fill-color);\n",
              "    height: 32px;\n",
              "    padding: 0;\n",
              "    width: 32px;\n",
              "  }\n",
              "\n",
              "  .colab-df-quickchart:hover {\n",
              "    background-color: var(--hover-bg-color);\n",
              "    box-shadow: 0 1px 2px rgba(60, 64, 67, 0.3), 0 1px 3px 1px rgba(60, 64, 67, 0.15);\n",
              "    fill: var(--button-hover-fill-color);\n",
              "  }\n",
              "\n",
              "  .colab-df-quickchart-complete:disabled,\n",
              "  .colab-df-quickchart-complete:disabled:hover {\n",
              "    background-color: var(--disabled-bg-color);\n",
              "    fill: var(--disabled-fill-color);\n",
              "    box-shadow: none;\n",
              "  }\n",
              "\n",
              "  .colab-df-spinner {\n",
              "    border: 2px solid var(--fill-color);\n",
              "    border-color: transparent;\n",
              "    border-bottom-color: var(--fill-color);\n",
              "    animation:\n",
              "      spin 1s steps(1) infinite;\n",
              "  }\n",
              "\n",
              "  @keyframes spin {\n",
              "    0% {\n",
              "      border-color: transparent;\n",
              "      border-bottom-color: var(--fill-color);\n",
              "      border-left-color: var(--fill-color);\n",
              "    }\n",
              "    20% {\n",
              "      border-color: transparent;\n",
              "      border-left-color: var(--fill-color);\n",
              "      border-top-color: var(--fill-color);\n",
              "    }\n",
              "    30% {\n",
              "      border-color: transparent;\n",
              "      border-left-color: var(--fill-color);\n",
              "      border-top-color: var(--fill-color);\n",
              "      border-right-color: var(--fill-color);\n",
              "    }\n",
              "    40% {\n",
              "      border-color: transparent;\n",
              "      border-right-color: var(--fill-color);\n",
              "      border-top-color: var(--fill-color);\n",
              "    }\n",
              "    60% {\n",
              "      border-color: transparent;\n",
              "      border-right-color: var(--fill-color);\n",
              "    }\n",
              "    80% {\n",
              "      border-color: transparent;\n",
              "      border-right-color: var(--fill-color);\n",
              "      border-bottom-color: var(--fill-color);\n",
              "    }\n",
              "    90% {\n",
              "      border-color: transparent;\n",
              "      border-bottom-color: var(--fill-color);\n",
              "    }\n",
              "  }\n",
              "</style>\n",
              "\n",
              "  <script>\n",
              "    async function quickchart(key) {\n",
              "      const quickchartButtonEl =\n",
              "        document.querySelector('#' + key + ' button');\n",
              "      quickchartButtonEl.disabled = true;  // To prevent multiple clicks.\n",
              "      quickchartButtonEl.classList.add('colab-df-spinner');\n",
              "      try {\n",
              "        const charts = await google.colab.kernel.invokeFunction(\n",
              "            'suggestCharts', [key], {});\n",
              "      } catch (error) {\n",
              "        console.error('Error during call to suggestCharts:', error);\n",
              "      }\n",
              "      quickchartButtonEl.classList.remove('colab-df-spinner');\n",
              "      quickchartButtonEl.classList.add('colab-df-quickchart-complete');\n",
              "    }\n",
              "    (() => {\n",
              "      let quickchartButtonEl =\n",
              "        document.querySelector('#df-a8baf68b-9a5b-4237-960b-967fbd3d504a button');\n",
              "      quickchartButtonEl.style.display =\n",
              "        google.colab.kernel.accessAllowed ? 'block' : 'none';\n",
              "    })();\n",
              "  </script>\n",
              "</div>\n",
              "\n",
              "  <div id=\"id_a831f749-d924-4a8b-9c1b-bfa954a759d6\">\n",
              "    <style>\n",
              "      .colab-df-generate {\n",
              "        background-color: #E8F0FE;\n",
              "        border: none;\n",
              "        border-radius: 50%;\n",
              "        cursor: pointer;\n",
              "        display: none;\n",
              "        fill: #1967D2;\n",
              "        height: 32px;\n",
              "        padding: 0 0 0 0;\n",
              "        width: 32px;\n",
              "      }\n",
              "\n",
              "      .colab-df-generate:hover {\n",
              "        background-color: #E2EBFA;\n",
              "        box-shadow: 0px 1px 2px rgba(60, 64, 67, 0.3), 0px 1px 3px 1px rgba(60, 64, 67, 0.15);\n",
              "        fill: #174EA6;\n",
              "      }\n",
              "\n",
              "      [theme=dark] .colab-df-generate {\n",
              "        background-color: #3B4455;\n",
              "        fill: #D2E3FC;\n",
              "      }\n",
              "\n",
              "      [theme=dark] .colab-df-generate:hover {\n",
              "        background-color: #434B5C;\n",
              "        box-shadow: 0px 1px 3px 1px rgba(0, 0, 0, 0.15);\n",
              "        filter: drop-shadow(0px 1px 2px rgba(0, 0, 0, 0.3));\n",
              "        fill: #FFFFFF;\n",
              "      }\n",
              "    </style>\n",
              "    <button class=\"colab-df-generate\" onclick=\"generateWithVariable('data')\"\n",
              "            title=\"Generate code using this dataframe.\"\n",
              "            style=\"display:none;\">\n",
              "\n",
              "  <svg xmlns=\"http://www.w3.org/2000/svg\" height=\"24px\"viewBox=\"0 0 24 24\"\n",
              "       width=\"24px\">\n",
              "    <path d=\"M7,19H8.4L18.45,9,17,7.55,7,17.6ZM5,21V16.75L18.45,3.32a2,2,0,0,1,2.83,0l1.4,1.43a1.91,1.91,0,0,1,.58,1.4,1.91,1.91,0,0,1-.58,1.4L9.25,21ZM18.45,9,17,7.55Zm-12,3A5.31,5.31,0,0,0,4.9,8.1,5.31,5.31,0,0,0,1,6.5,5.31,5.31,0,0,0,4.9,4.9,5.31,5.31,0,0,0,6.5,1,5.31,5.31,0,0,0,8.1,4.9,5.31,5.31,0,0,0,12,6.5,5.46,5.46,0,0,0,6.5,12Z\"/>\n",
              "  </svg>\n",
              "    </button>\n",
              "    <script>\n",
              "      (() => {\n",
              "      const buttonEl =\n",
              "        document.querySelector('#id_a831f749-d924-4a8b-9c1b-bfa954a759d6 button.colab-df-generate');\n",
              "      buttonEl.style.display =\n",
              "        google.colab.kernel.accessAllowed ? 'block' : 'none';\n",
              "\n",
              "      buttonEl.onclick = () => {\n",
              "        google.colab.notebook.generateWithVariable('data');\n",
              "      }\n",
              "      })();\n",
              "    </script>\n",
              "  </div>\n",
              "\n",
              "    </div>\n",
              "  </div>\n"
            ],
            "application/vnd.google.colaboratory.intrinsic+json": {
              "type": "dataframe",
              "variable_name": "data",
              "summary": "{\n  \"name\": \"data\",\n  \"rows\": 4,\n  \"fields\": [\n    {\n      \"column\": \"cgpa\",\n      \"properties\": {\n        \"dtype\": \"number\",\n        \"std\": 1,\n        \"min\": 5,\n        \"max\": 8,\n        \"num_unique_values\": 4,\n        \"samples\": [\n          7,\n          5,\n          8\n        ],\n        \"semantic_type\": \"\",\n        \"description\": \"\"\n      }\n    },\n    {\n      \"column\": \"profile_score\",\n      \"properties\": {\n        \"dtype\": \"number\",\n        \"std\": 1,\n        \"min\": 8,\n        \"max\": 12,\n        \"num_unique_values\": 4,\n        \"samples\": [\n          9,\n          12,\n          8\n        ],\n        \"semantic_type\": \"\",\n        \"description\": \"\"\n      }\n    },\n    {\n      \"column\": \"lpa\",\n      \"properties\": {\n        \"dtype\": \"number\",\n        \"std\": 1,\n        \"min\": 4,\n        \"max\": 7,\n        \"num_unique_values\": 4,\n        \"samples\": [\n          5,\n          7,\n          4\n        ],\n        \"semantic_type\": \"\",\n        \"description\": \"\"\n      }\n    }\n  ]\n}"
            }
          },
          "metadata": {},
          "execution_count": 199
        }
      ]
    },
    {
      "source": [
        "from matplotlib import pyplot as plt\n",
        "data.plot(kind='scatter', x='profile_score', y='lpa', s=32, alpha=.8)\n",
        "plt.gca().spines[['top', 'right',]].set_visible(False)"
      ],
      "cell_type": "code",
      "metadata": {
        "colab": {
          "base_uri": "https://localhost:8080/",
          "height": 450
        },
        "id": "gIXcgUxY-gyv",
        "outputId": "9bee31b2-27af-4af1-97a8-1dbc0841c66c"
      },
      "execution_count": 200,
      "outputs": [
        {
          "output_type": "display_data",
          "data": {
            "text/plain": [
              "<Figure size 640x480 with 1 Axes>"
            ],
            "image/png": "[encoded data removed]"
          },
          "metadata": {}
        }
      ]
    },
    {
      "cell_type": "code",
      "source": [
        "# Hyperparameters\n",
        "input_size = 2\n",
        "hidden_size = 2\n",
        "output_size = 1\n",
        "learning_rate = 0.001\n",
        "max_epochs = 100"
      ],
      "metadata": {
        "id": "VY5LBJpF-Z8u"
      },
      "execution_count": 201,
      "outputs": []
    },
    {
      "cell_type": "code",
      "source": [
        "# Initialize weights and biases\n",
        "np.random.seed(0)  # For reproducibility\n",
        "weights_input_hidden = np.random.randn(input_size, hidden_size)\n",
        "weights_hidden_output = np.random.randn(hidden_size, output_size)\n",
        "bias_hidden = np.random.randn(hidden_size)\n",
        "bias_output = np.random.randn(output_size)"
      ],
      "metadata": {
        "id": "FtwbfVnm-31-"
      },
      "execution_count": 202,
      "outputs": []
    },
    {
      "cell_type": "code",
      "source": [
        "weights_input_hidden"
      ],
      "metadata": {
        "colab": {
          "base_uri": "https://localhost:8080/"
        },
        "id": "ak4IdCsk_Pqd",
        "outputId": "7136673b-ab74-4bac-f70f-a40d6bdb2c46"
      },
      "execution_count": 203,
      "outputs": [
        {
          "output_type": "execute_result",
          "data": {
            "text/plain": [
              "array([[1.76405235, 0.40015721],\n",
              "       [0.97873798, 2.2408932 ]])"
            ]
          },
          "metadata": {},
          "execution_count": 203
        }
      ]
    },
    {
      "cell_type": "code",
      "source": [
        "weights_hidden_output"
      ],
      "metadata": {
        "colab": {
          "base_uri": "https://localhost:8080/"
        },
        "id": "on3SJTiaAi_O",
        "outputId": "321a0091-2014-44a0-fb18-d9ba9a4c8db3"
      },
      "execution_count": 204,
      "outputs": [
        {
          "output_type": "execute_result",
          "data": {
            "text/plain": [
              "array([[ 1.86755799],\n",
              "       [-0.97727788]])"
            ]
          },
          "metadata": {},
          "execution_count": 204
        }
      ]
    },
    {
      "cell_type": "code",
      "source": [
        "bias_hidden"
      ],
      "metadata": {
        "colab": {
          "base_uri": "https://localhost:8080/"
        },
        "id": "bREXZFuIAkk-",
        "outputId": "6e67f286-81c3-4c17-cea9-3c5ab9f94131"
      },
      "execution_count": 205,
      "outputs": [
        {
          "output_type": "execute_result",
          "data": {
            "text/plain": [
              "array([ 0.95008842, -0.15135721])"
            ]
          },
          "metadata": {},
          "execution_count": 205
        }
      ]
    },
    {
      "cell_type": "code",
      "source": [
        "bias_output"
      ],
      "metadata": {
        "colab": {
          "base_uri": "https://localhost:8080/"
        },
        "id": "OSRFm1JyAneN",
        "outputId": "a4a813d1-d9dc-4deb-dbb3-283c047e3157"
      },
      "execution_count": 206,
      "outputs": [
        {
          "output_type": "execute_result",
          "data": {
            "text/plain": [
              "array([-0.10321885])"
            ]
          },
          "metadata": {},
          "execution_count": 206
        }
      ]
    },
    {
      "cell_type": "code",
      "source": [
        "def forward_propagation(x):\n",
        "  z_hidden = np.dot(x, weights_input_hidden) + bias_hidden # calculating z\n",
        "  a_hidden = z_hidden # as it is a linear\n",
        "\n",
        "  z_output = np.dot(a_hidden, weights_hidden_output) + bias_output\n",
        "  y_hat = z_output\n",
        "  return y_hat, a_hidden"
      ],
      "metadata": {
        "id": "rf7Yu-Y4Aot9"
      },
      "execution_count": 207,
      "outputs": []
    },
    {
      "cell_type": "code",
      "source": [
        "def update_weights(y, y_hat, a_hidden, weights_input_hidden, weights_hidden_output, x):\n",
        "  # print(f\"Previous weights: {weights_input_hidden}\")\n",
        "  # print(f\"Previous weights: {weights_hidden_output}\")\n",
        "  # print(f\"Previous bias: {bias_hidden}\")\n",
        "  # print(f\"Previous bias: {bias_output}\")\n",
        "\n",
        "  weights_input_hidden[0, 0] = weights_input_hidden[0, 0] - learning_rate * (-2 * (y-y_hat) * weights_hidden_output[0, 0] * x[0])\n",
        "  weights_input_hidden[0, 1] = weights_input_hidden[0, 1] - learning_rate * (-2 * (y-y_hat) * weights_hidden_output[0, 0] * x[1])\n",
        "  bias_hidden[0] = bias_hidden[0] - learning_rate * (-2 * (y-y_hat) * weights_hidden_output[0, 0])\n",
        "\n",
        "  weights_input_hidden[1, 0] = weights_input_hidden[1, 0] - learning_rate * (-2 * (y-y_hat) * weights_hidden_output[1, 0] * x[0])\n",
        "  weights_input_hidden[1, 1] = weights_input_hidden[1, 1] - learning_rate * (-2 * (y-y_hat) * weights_hidden_output[1, 0] * x[1])\n",
        "  bias_hidden[1] = bias_hidden[1] - learning_rate * (-2 * (y-y_hat) * weights_hidden_output[1, 0])\n",
        "\n",
        "  weights_hidden_output[0, 0] = weights_hidden_output[0, 0] - learning_rate * (-2 * (y-y_hat) * a_hidden[0])\n",
        "  weights_hidden_output[1, 0] = weights_hidden_output[1, 0] - learning_rate * (-2 * (y-y_hat) * a_hidden[1])\n",
        "  bias_output[0] = bias_output[0] - learning_rate * (-2 * (y-y_hat))\n",
        "\n",
        "  # print(f\"Updated weights: {weights_input_hidden}\")\n",
        "  # print(f\"Updated weights: {weights_hidden_output}\")\n",
        "  # print(f\"Updated bias: {bias_hidden}\")\n",
        "  # print(f\"Updated bias: {bias_output}\")"
      ],
      "metadata": {
        "id": "qRMm_PEKDcr4"
      },
      "execution_count": 208,
      "outputs": []
    },
    {
      "cell_type": "code",
      "source": [
        "def loss_function(y, y_hat):\n",
        "  return (y-y_hat)**2"
      ],
      "metadata": {
        "id": "IGNIoSYsFHkg"
      },
      "execution_count": 209,
      "outputs": []
    },
    {
      "cell_type": "code",
      "source": [
        "def back_propagation():\n",
        "  for epoch in range(max_epochs):\n",
        "    loss = 0\n",
        "    for i in range(len(data)):\n",
        "      j = random.randint(0, len(data)-1)\n",
        "      x = data.iloc[j, 0:2]\n",
        "      y = data.iloc[j, 2]\n",
        "      y_hat, a_hidden = forward_propagation(x)\n",
        "      loss += loss_function(y, y_hat)\n",
        "      update_weights(y, y_hat, a_hidden, weights_input_hidden, weights_hidden_output, x)\n",
        "    print(f\"After epoch {epoch}: Loss : {loss}\")"
      ],
      "metadata": {
        "id": "E9IEP6aTBTcu"
      },
      "execution_count": 210,
      "outputs": []
    },
    {
      "cell_type": "code",
      "source": [
        "back_propagation()"
      ],
      "metadata": {
        "colab": {
          "base_uri": "https://localhost:8080/"
        },
        "id": "Dry2skueFs2u",
        "outputId": "63f9a7c1-1be1-4df0-d7cf-e2f830848c3b"
      },
      "execution_count": 211,
      "outputs": [
        {
          "output_type": "stream",
          "name": "stderr",
          "text": [
            "<ipython-input-208-bbce6f101ed2>:7: FutureWarning: Series.__getitem__ treating keys as positions is deprecated. In a future version, integer keys will always be treated as labels (consistent with DataFrame behavior). To access a value by position, use `ser.iloc[pos]`\n",
            "  weights_input_hidden[0, 0] = weights_input_hidden[0, 0] - learning_rate * (-2 * (y-y_hat) * weights_hidden_output[0, 0] * x[0])\n",
            "<ipython-input-208-bbce6f101ed2>:7: DeprecationWarning: Conversion of an array with ndim > 0 to a scalar is deprecated, and will error in future. Ensure you extract a single element from your array before performing this operation. (Deprecated NumPy 1.25.)\n",
            "  weights_input_hidden[0, 0] = weights_input_hidden[0, 0] - learning_rate * (-2 * (y-y_hat) * weights_hidden_output[0, 0] * x[0])\n",
            "<ipython-input-208-bbce6f101ed2>:8: FutureWarning: Series.__getitem__ treating keys as positions is deprecated. In a future version, integer keys will always be treated as labels (consistent with DataFrame behavior). To access a value by position, use `ser.iloc[pos]`\n",
            "  weights_input_hidden[0, 1] = weights_input_hidden[0, 1] - learning_rate * (-2 * (y-y_hat) * weights_hidden_output[0, 0] * x[1])\n",
            "<ipython-input-208-bbce6f101ed2>:8: DeprecationWarning: Conversion of an array with ndim > 0 to a scalar is deprecated, and will error in future. Ensure you extract a single element from your array before performing this operation. (Deprecated NumPy 1.25.)\n",
            "  weights_input_hidden[0, 1] = weights_input_hidden[0, 1] - learning_rate * (-2 * (y-y_hat) * weights_hidden_output[0, 0] * x[1])\n",
            "<ipython-input-208-bbce6f101ed2>:9: DeprecationWarning: Conversion of an array with ndim > 0 to a scalar is deprecated, and will error in future. Ensure you extract a single element from your array before performing this operation. (Deprecated NumPy 1.25.)\n",
            "  bias_hidden[0] = bias_hidden[0] - learning_rate * (-2 * (y-y_hat) * weights_hidden_output[0, 0])\n",
            "<ipython-input-208-bbce6f101ed2>:11: FutureWarning: Series.__getitem__ treating keys as positions is deprecated. In a future version, integer keys will always be treated as labels (consistent with DataFrame behavior). To access a value by position, use `ser.iloc[pos]`\n",
            "  weights_input_hidden[1, 0] = weights_input_hidden[1, 0] - learning_rate * (-2 * (y-y_hat) * weights_hidden_output[1, 0] * x[0])\n",
            "<ipython-input-208-bbce6f101ed2>:11: DeprecationWarning: Conversion of an array with ndim > 0 to a scalar is deprecated, and will error in future. Ensure you extract a single element from your array before performing this operation. (Deprecated NumPy 1.25.)\n",
            "  weights_input_hidden[1, 0] = weights_input_hidden[1, 0] - learning_rate * (-2 * (y-y_hat) * weights_hidden_output[1, 0] * x[0])\n",
            "<ipython-input-208-bbce6f101ed2>:12: FutureWarning: Series.__getitem__ treating keys as positions is deprecated. In a future version, integer keys will always be treated as labels (consistent with DataFrame behavior). To access a value by position, use `ser.iloc[pos]`\n",
            "  weights_input_hidden[1, 1] = weights_input_hidden[1, 1] - learning_rate * (-2 * (y-y_hat) * weights_hidden_output[1, 0] * x[1])\n",
            "<ipython-input-208-bbce6f101ed2>:12: DeprecationWarning: Conversion of an array with ndim > 0 to a scalar is deprecated, and will error in future. Ensure you extract a single element from your array before performing this operation. (Deprecated NumPy 1.25.)\n",
            "  weights_input_hidden[1, 1] = weights_input_hidden[1, 1] - learning_rate * (-2 * (y-y_hat) * weights_hidden_output[1, 0] * x[1])\n",
            "<ipython-input-208-bbce6f101ed2>:13: DeprecationWarning: Conversion of an array with ndim > 0 to a scalar is deprecated, and will error in future. Ensure you extract a single element from your array before performing this operation. (Deprecated NumPy 1.25.)\n",
            "  bias_hidden[1] = bias_hidden[1] - learning_rate * (-2 * (y-y_hat) * weights_hidden_output[1, 0])\n",
            "<ipython-input-208-bbce6f101ed2>:15: DeprecationWarning: Conversion of an array with ndim > 0 to a scalar is deprecated, and will error in future. Ensure you extract a single element from your array before performing this operation. (Deprecated NumPy 1.25.)\n",
            "  weights_hidden_output[0, 0] = weights_hidden_output[0, 0] - learning_rate * (-2 * (y-y_hat) * a_hidden[0])\n",
            "<ipython-input-208-bbce6f101ed2>:16: DeprecationWarning: Conversion of an array with ndim > 0 to a scalar is deprecated, and will error in future. Ensure you extract a single element from your array before performing this operation. (Deprecated NumPy 1.25.)\n",
            "  weights_hidden_output[1, 0] = weights_hidden_output[1, 0] - learning_rate * (-2 * (y-y_hat) * a_hidden[1])\n",
            "<ipython-input-208-bbce6f101ed2>:17: DeprecationWarning: Conversion of an array with ndim > 0 to a scalar is deprecated, and will error in future. Ensure you extract a single element from your array before performing this operation. (Deprecated NumPy 1.25.)\n",
            "  bias_output[0] = bias_output[0] - learning_rate * (-2 * (y-y_hat))\n"
          ]
        },
        {
          "output_type": "stream",
          "name": "stdout",
          "text": [
            "After epoch 0: Loss : [239.62384516]\n",
            "After epoch 1: Loss : [826.34465669]\n",
            "After epoch 2: Loss : [412.04066309]\n",
            "After epoch 3: Loss : [269.13518971]\n",
            "After epoch 4: Loss : [56.26332104]\n",
            "After epoch 5: Loss : [103.94946221]\n",
            "After epoch 6: Loss : [42.3773539]\n",
            "After epoch 7: Loss : [22.51661579]\n",
            "After epoch 8: Loss : [12.99415896]\n",
            "After epoch 9: Loss : [24.48234183]\n",
            "After epoch 10: Loss : [23.81351226]\n",
            "After epoch 11: Loss : [41.7811219]\n",
            "After epoch 12: Loss : [22.08152448]\n",
            "After epoch 13: Loss : [1.41049205]\n",
            "After epoch 14: Loss : [5.29515147]\n",
            "After epoch 15: Loss : [36.1893524]\n",
            "After epoch 16: Loss : [4.70933101]\n",
            "After epoch 17: Loss : [20.35252007]\n",
            "After epoch 18: Loss : [6.97463024]\n",
            "After epoch 19: Loss : [9.82337165]\n",
            "After epoch 20: Loss : [24.71342812]\n",
            "After epoch 21: Loss : [3.01547131]\n",
            "After epoch 22: Loss : [4.45299285]\n",
            "After epoch 23: Loss : [13.62194805]\n",
            "After epoch 24: Loss : [15.59336187]\n",
            "After epoch 25: Loss : [7.1992767]\n",
            "After epoch 26: Loss : [3.43035496]\n",
            "After epoch 27: Loss : [0.66704657]\n",
            "After epoch 28: Loss : [5.49308484]\n",
            "After epoch 29: Loss : [5.03637338]\n",
            "After epoch 30: Loss : [3.7371151]\n",
            "After epoch 31: Loss : [4.16381902]\n",
            "After epoch 32: Loss : [3.19580065]\n",
            "After epoch 33: Loss : [6.31794788]\n",
            "After epoch 34: Loss : [4.35052506]\n",
            "After epoch 35: Loss : [4.06002325]\n",
            "After epoch 36: Loss : [2.58742098]\n",
            "After epoch 37: Loss : [5.54186436]\n",
            "After epoch 38: Loss : [3.92312319]\n",
            "After epoch 39: Loss : [3.53407919]\n",
            "After epoch 40: Loss : [2.3184894]\n",
            "After epoch 41: Loss : [1.57930131]\n",
            "After epoch 42: Loss : [0.70787963]\n",
            "After epoch 43: Loss : [1.00471521]\n",
            "After epoch 44: Loss : [0.3494179]\n",
            "After epoch 45: Loss : [0.49686179]\n",
            "After epoch 46: Loss : [1.3988559]\n",
            "After epoch 47: Loss : [1.72905609]\n",
            "After epoch 48: Loss : [1.24393397]\n",
            "After epoch 49: Loss : [0.69117358]\n",
            "After epoch 50: Loss : [0.18198559]\n",
            "After epoch 51: Loss : [1.19475605]\n",
            "After epoch 52: Loss : [1.46815891]\n",
            "After epoch 53: Loss : [1.61840646]\n",
            "After epoch 54: Loss : [0.15790863]\n",
            "After epoch 55: Loss : [1.33409243]\n",
            "After epoch 56: Loss : [0.67740833]\n",
            "After epoch 57: Loss : [0.7304305]\n",
            "After epoch 58: Loss : [1.02787869]\n",
            "After epoch 59: Loss : [0.59426601]\n",
            "After epoch 60: Loss : [0.43076613]\n",
            "After epoch 61: Loss : [0.83713995]\n",
            "After epoch 62: Loss : [0.15084555]\n",
            "After epoch 63: Loss : [0.54234374]\n",
            "After epoch 64: Loss : [0.32171935]\n",
            "After epoch 65: Loss : [0.29286557]\n",
            "After epoch 66: Loss : [0.34965293]\n",
            "After epoch 67: Loss : [0.20691329]\n",
            "After epoch 68: Loss : [0.13743918]\n",
            "After epoch 69: Loss : [0.39354006]\n",
            "After epoch 70: Loss : [0.52063971]\n",
            "After epoch 71: Loss : [0.55023819]\n",
            "After epoch 72: Loss : [0.26766333]\n",
            "After epoch 73: Loss : [0.12874224]\n",
            "After epoch 74: Loss : [0.15089423]\n",
            "After epoch 75: Loss : [0.30506483]\n",
            "After epoch 76: Loss : [0.00276597]\n",
            "After epoch 77: Loss : [0.4267841]\n",
            "After epoch 78: Loss : [0.32370882]\n",
            "After epoch 79: Loss : [0.30586773]\n",
            "After epoch 80: Loss : [0.47618071]\n",
            "After epoch 81: Loss : [0.3144484]\n",
            "After epoch 82: Loss : [0.34726342]\n",
            "After epoch 83: Loss : [0.21599063]\n",
            "After epoch 84: Loss : [0.10408643]\n",
            "After epoch 85: Loss : [0.09274194]\n",
            "After epoch 86: Loss : [0.08957691]\n",
            "After epoch 87: Loss : [0.2751863]\n",
            "After epoch 88: Loss : [0.15635102]\n",
            "After epoch 89: Loss : [0.08235423]\n",
            "After epoch 90: Loss : [0.24245429]\n",
            "After epoch 91: Loss : [0.05745772]\n",
            "After epoch 92: Loss : [0.24573005]\n",
            "After epoch 93: Loss : [0.01642734]\n",
            "After epoch 94: Loss : [0.30449554]\n",
            "After epoch 95: Loss : [0.21643599]\n",
            "After epoch 96: Loss : [0.36385526]\n",
            "After epoch 97: Loss : [0.22346289]\n",
            "After epoch 98: Loss : [0.10196339]\n",
            "After epoch 99: Loss : [0.23314085]\n"
          ]
        }
      ]
    },
    {
      "cell_type": "code",
      "source": [
        "x = data.iloc[0, 0:2]\n",
        "y = data.iloc[0, 2]\n",
        "y_hat, a_hidden = forward_propagation(x)\n",
        "y_hat"
      ],
      "metadata": {
        "colab": {
          "base_uri": "https://localhost:8080/"
        },
        "id": "TDvg_0KgF_de",
        "outputId": "5b13fbab-8c6c-4ce8-aedc-acc433467e53"
      },
      "execution_count": 213,
      "outputs": [
        {
          "output_type": "execute_result",
          "data": {
            "text/plain": [
              "array([4.14074154])"
            ]
          },
          "metadata": {},
          "execution_count": 213
        }
      ]
    },
    {
      "cell_type": "code",
      "source": [],
      "metadata": {
        "id": "rJgnjcCHKCtv"
      },
      "execution_count": null,
      "outputs": []
    }
  ]
}